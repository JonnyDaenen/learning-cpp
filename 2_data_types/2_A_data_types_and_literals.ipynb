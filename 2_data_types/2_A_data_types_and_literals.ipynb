{
 "cells": [
  {
   "cell_type": "markdown",
   "metadata": {},
   "source": [
    "# Data types and literals"
   ]
  },
  {
   "cell_type": "code",
   "execution_count": 2,
   "metadata": {},
   "outputs": [],
   "source": [
    "\n",
    "#include <iostream>\n",
    "\n",
    "using namespace std;\n",
    "\n",
    "\n"
   ]
  },
  {
   "cell_type": "code",
   "execution_count": 3,
   "metadata": {},
   "outputs": [
    {
     "name": "stdout",
     "output_type": "stream",
     "text": [
      "3\n",
      "4\n",
      "5\n",
      "12\n"
     ]
    }
   ],
   "source": [
    "int count_apple {3};\n",
    "int count_orange (4);\n",
    "int count_pear = 5;\n",
    "int count_total = {count_apple + count_orange + count_pear};\n",
    "\n",
    "cout << count_apple << endl;\n",
    "cout << count_orange << endl;\n",
    "cout << count_pear << endl;\n",
    "cout << count_total << endl;\n"
   ]
  },
  {
   "cell_type": "code",
   "execution_count": 4,
   "metadata": {},
   "outputs": [],
   "source": [
    "int f(int i, int j)\n",
    "{\n",
    "    return i + j;\n",
    "}"
   ]
  },
  {
   "cell_type": "code",
   "execution_count": 5,
   "metadata": {},
   "outputs": [
    {
     "data": {
      "text/plain": [
       "3"
      ]
     },
     "execution_count": 5,
     "metadata": {},
     "output_type": "execute_result"
    }
   ],
   "source": [
    "f(1,2)"
   ]
  },
  {
   "cell_type": "code",
   "execution_count": 6,
   "metadata": {},
   "outputs": [
    {
     "data": {
      "text/plain": [
       "3"
      ]
     },
     "execution_count": 6,
     "metadata": {},
     "output_type": "execute_result"
    }
   ],
   "source": [
    "count_apple"
   ]
  },
  {
   "cell_type": "markdown",
   "metadata": {},
   "source": [
    "## Type sizes\n",
    "\n",
    "- `short` = `short int`\n",
    "- `int`\n",
    "- `long` = `long int`\n",
    "- `long long` = `long long int`\n",
    "\n",
    "all have `signed` and `unsigned` versions too, basic types default to `signed`."
   ]
  },
  {
   "cell_type": "code",
   "execution_count": 7,
   "metadata": {},
   "outputs": [
    {
     "data": {
      "text/plain": [
       "1"
      ]
     },
     "execution_count": 7,
     "metadata": {},
     "output_type": "execute_result"
    }
   ],
   "source": [
    "sizeof(char)"
   ]
  },
  {
   "cell_type": "code",
   "execution_count": 11,
   "metadata": {},
   "outputs": [
    {
     "data": {
      "text/plain": [
       "2"
      ]
     },
     "execution_count": 11,
     "metadata": {},
     "output_type": "execute_result"
    }
   ],
   "source": [
    "sizeof(short)"
   ]
  },
  {
   "cell_type": "code",
   "execution_count": 8,
   "metadata": {},
   "outputs": [
    {
     "data": {
      "text/plain": [
       "4"
      ]
     },
     "execution_count": 8,
     "metadata": {},
     "output_type": "execute_result"
    }
   ],
   "source": [
    "sizeof(int)"
   ]
  },
  {
   "cell_type": "code",
   "execution_count": 9,
   "metadata": {},
   "outputs": [
    {
     "data": {
      "text/plain": [
       "8"
      ]
     },
     "execution_count": 9,
     "metadata": {},
     "output_type": "execute_result"
    }
   ],
   "source": [
    "sizeof(long)"
   ]
  },
  {
   "cell_type": "code",
   "execution_count": 10,
   "metadata": {},
   "outputs": [
    {
     "data": {
      "text/plain": [
       "8"
      ]
     },
     "execution_count": 10,
     "metadata": {},
     "output_type": "execute_result"
    }
   ],
   "source": [
    "sizeof(long long)"
   ]
  },
  {
   "cell_type": "markdown",
   "metadata": {},
   "source": [
    "## Chars\n",
    "`char` is different from both the `signed` and `unsigned` version as it is meant to store character values."
   ]
  },
  {
   "cell_type": "code",
   "execution_count": 12,
   "metadata": {},
   "outputs": [
    {
     "data": {
      "text/plain": [
       "-128"
      ]
     },
     "execution_count": 12,
     "metadata": {},
     "output_type": "execute_result"
    }
   ],
   "source": [
    "CHAR_MIN"
   ]
  },
  {
   "cell_type": "markdown",
   "metadata": {},
   "source": [
    "## Zero initialization\n",
    "works for all fundamental types."
   ]
  },
  {
   "cell_type": "code",
   "execution_count": 13,
   "metadata": {},
   "outputs": [],
   "source": [
    "int test {};"
   ]
  },
  {
   "cell_type": "code",
   "execution_count": 14,
   "metadata": {},
   "outputs": [
    {
     "data": {
      "text/plain": [
       "0"
      ]
     },
     "execution_count": 14,
     "metadata": {},
     "output_type": "execute_result"
    }
   ],
   "source": [
    "test"
   ]
  },
  {
   "cell_type": "code",
   "execution_count": 17,
   "metadata": {},
   "outputs": [
    {
     "name": "stderr",
     "output_type": "stream",
     "text": [
      "\u001b[1minput_line_36:2:6: \u001b[0m\u001b[0;1;31merror: \u001b[0m\u001b[1mredefinition of 'dummy'\u001b[0m\n",
      " int dummy; // 0 is not guaranteed!\n",
      "\u001b[0;1;32m     ^\n",
      "\u001b[0m\u001b[1minput_line_33:2:6: \u001b[0m\u001b[0;1;30mnote: \u001b[0mprevious definition is here\u001b[0m\n",
      " int dummy;\n",
      "\u001b[0;1;32m     ^\n",
      "\u001b[0m"
     ]
    },
    {
     "ename": "Interpreter Error",
     "evalue": "",
     "output_type": "error",
     "traceback": [
      "Interpreter Error: "
     ]
    }
   ],
   "source": [
    "int dummy; // 0 is not guaranteed!"
   ]
  },
  {
   "cell_type": "code",
   "execution_count": 16,
   "metadata": {},
   "outputs": [
    {
     "data": {
      "text/plain": [
       "0"
      ]
     },
     "execution_count": 16,
     "metadata": {},
     "output_type": "execute_result"
    }
   ],
   "source": [
    "dummy"
   ]
  },
  {
   "cell_type": "markdown",
   "metadata": {},
   "source": [
    "## Constants\n",
    "memory that cannot be changed!"
   ]
  },
  {
   "cell_type": "code",
   "execution_count": 18,
   "metadata": {},
   "outputs": [],
   "source": [
    "const unsigned line_count {10};"
   ]
  },
  {
   "cell_type": "code",
   "execution_count": 19,
   "metadata": {},
   "outputs": [
    {
     "name": "stderr",
     "output_type": "stream",
     "text": [
      "\u001b[1minput_line_38:2:13: \u001b[0m\u001b[0;1;31merror: \u001b[0m\u001b[1mcannot assign to variable 'line_count' with const-qualified type 'const unsigned int'\u001b[0m\n",
      " line_count = 100;\n",
      "\u001b[0;1;32m ~~~~~~~~~~ ^\n",
      "\u001b[0m\u001b[1minput_line_37:2:17: \u001b[0m\u001b[0;1;30mnote: \u001b[0mvariable 'line_count' declared const here\u001b[0m\n",
      " const unsigned line_count {10};\n",
      "\u001b[0;1;32m ~~~~~~~~~~~~~~~^~~~~~~~~~~~~~~\n",
      "\u001b[0m"
     ]
    },
    {
     "ename": "Interpreter Error",
     "evalue": "",
     "output_type": "error",
     "traceback": [
      "Interpreter Error: "
     ]
    }
   ],
   "source": [
    "line_count = 100;"
   ]
  },
  {
   "cell_type": "code",
   "execution_count": 23,
   "metadata": {},
   "outputs": [
    {
     "name": "stderr",
     "output_type": "stream",
     "text": [
      "\u001b[1minput_line_42:2:17: \u001b[0m\u001b[0;1;31merror: \u001b[0m\u001b[1mdefault initialization of an object of const type 'const unsigned int'\u001b[0m\n",
      " const unsigned comma_count; // will yield an error \n",
      "\u001b[0;1;32m                ^\n",
      "\u001b[0m\u001b[0;32m                            = 0\n",
      "\u001b[0m\u001b[1minput_line_42:2:17: \u001b[0m\u001b[0;1;31merror: \u001b[0m\u001b[1mredefinition of 'comma_count'\u001b[0m\n",
      "\u001b[1minput_line_41:2:17: \u001b[0m\u001b[0;1;30mnote: \u001b[0mprevious definition is here\u001b[0m\n",
      " const unsigned comma_count = 10; \n",
      "\u001b[0;1;32m                ^\n",
      "\u001b[0m"
     ]
    },
    {
     "ename": "Interpreter Error",
     "evalue": "",
     "output_type": "error",
     "traceback": [
      "Interpreter Error: "
     ]
    }
   ],
   "source": [
    "const unsigned comma_count; // will yield an error "
   ]
  },
  {
   "cell_type": "markdown",
   "metadata": {},
   "source": [
    "## Literals\n",
    "code that represents values."
   ]
  },
  {
   "cell_type": "code",
   "execution_count": 30,
   "metadata": {},
   "outputs": [],
   "source": [
    "100;\n",
    "100L;\n",
    "100LL;\n",
    "+100;\n",
    "unsigned long x = 100UL;\n",
    "100u;\n",
    "1'000'000;"
   ]
  },
  {
   "cell_type": "code",
   "execution_count": 31,
   "metadata": {},
   "outputs": [
    {
     "name": "stderr",
     "output_type": "stream",
     "text": [
      "\u001b[1minput_line_51:2:23: \u001b[0m\u001b[0;1;31merror: \u001b[0m\u001b[1mconstant expression evaluates to 513 which cannot be narrowed to type 'unsigned char' [-Wc++11-narrowing]\u001b[0m\n",
      " unsigned char score {513U};\n",
      "\u001b[0;1;32m                      ^~~~\n",
      "\u001b[0m\u001b[1minput_line_51:2:23: \u001b[0m\u001b[0;1;30mnote: \u001b[0minsert an explicit cast to silence this issue\u001b[0m\n",
      " unsigned char score {513U};\n",
      "\u001b[0;1;32m                      ^~~~\n",
      "\u001b[0m\u001b[0;32m                      static_cast<unsigned char>( )\n",
      "\u001b[0m\u001b[1minput_line_51:2:23: \u001b[0m\u001b[0;1;35mwarning: \u001b[0m\u001b[1mimplicit conversion from 'unsigned int' to 'unsigned char' changes value from 513 to 1 [-Wconstant-conversion]\u001b[0m\n",
      " unsigned char score {513U};\n",
      "\u001b[0;1;32m                     ~^~~~\n",
      "\u001b[0m"
     ]
    },
    {
     "ename": "Interpreter Error",
     "evalue": "",
     "output_type": "error",
     "traceback": [
      "Interpreter Error: "
     ]
    }
   ],
   "source": [
    "unsigned char score {513U};"
   ]
  },
  {
   "cell_type": "code",
   "execution_count": 32,
   "metadata": {},
   "outputs": [
    {
     "name": "stderr",
     "output_type": "stream",
     "text": [
      "\u001b[1minput_line_52:2:23: \u001b[0m\u001b[0;1;31merror: \u001b[0m\u001b[1mconstant expression evaluates to -1 which cannot be narrowed to type 'unsigned int' [-Wc++11-narrowing]\u001b[0m\n",
      " unsigned int score2 {-1};\n",
      "\u001b[0;1;32m                      ^~\n",
      "\u001b[0m\u001b[1minput_line_52:2:23: \u001b[0m\u001b[0;1;30mnote: \u001b[0minsert an explicit cast to silence this issue\u001b[0m\n",
      " unsigned int score2 {-1};\n",
      "\u001b[0;1;32m                      ^~\n",
      "\u001b[0m\u001b[0;32m                      static_cast<unsigned int>( )\n",
      "\u001b[0m"
     ]
    },
    {
     "ename": "Interpreter Error",
     "evalue": "",
     "output_type": "error",
     "traceback": [
      "Interpreter Error: "
     ]
    }
   ],
   "source": [
    "unsigned int score2 {-1};"
   ]
  },
  {
   "cell_type": "markdown",
   "metadata": {},
   "source": [
    "## Hex"
   ]
  },
  {
   "cell_type": "code",
   "execution_count": 33,
   "metadata": {},
   "outputs": [],
   "source": [
    "unsigned int color {0xff9900};"
   ]
  },
  {
   "cell_type": "code",
   "execution_count": 34,
   "metadata": {},
   "outputs": [
    {
     "name": "stderr",
     "output_type": "stream",
     "text": [
      "\u001b[1minput_line_54:2:12: \u001b[0m\u001b[0;1;31merror: \u001b[0m\u001b[1mconstant expression evaluates to 1095233372415 which cannot be narrowed to type 'int' [-Wc++11-narrowing]\u001b[0m\n",
      " int mask {0xFF00FF00FF}\n",
      "\u001b[0;1;32m           ^~~~~~~~~~~~\n",
      "\u001b[0m\u001b[1minput_line_54:2:12: \u001b[0m\u001b[0;1;30mnote: \u001b[0minsert an explicit cast to silence this issue\u001b[0m\n",
      " int mask {0xFF00FF00FF}\n",
      "\u001b[0;1;32m           ^~~~~~~~~~~~\n",
      "\u001b[0m\u001b[0;32m           static_cast<int>( )\n",
      "\u001b[0m\u001b[1minput_line_54:2:12: \u001b[0m\u001b[0;1;35mwarning: \u001b[0m\u001b[1mimplicit conversion from 'long' to 'int' changes value from 1095233372415 to 16711935 [-Wconstant-conversion]\u001b[0m\n",
      " int mask {0xFF00FF00FF}\n",
      "\u001b[0;1;32m          ~^~~~~~~~~~~~\n",
      "\u001b[0m"
     ]
    },
    {
     "ename": "Interpreter Error",
     "evalue": "",
     "output_type": "error",
     "traceback": [
      "Interpreter Error: "
     ]
    }
   ],
   "source": [
    "int mask {0xFF00FF00FF}"
   ]
  },
  {
   "cell_type": "code",
   "execution_count": 38,
   "metadata": {},
   "outputs": [
    {
     "name": "stderr",
     "output_type": "stream",
     "text": [
      "\u001b[1minput_line_58:2:13: \u001b[0m\u001b[0;1;31merror: \u001b[0m\u001b[1mconstant expression evaluates to 4294967295 which cannot be narrowed to type 'int' [-Wc++11-narrowing]\u001b[0m\n",
      " int mask3 {0xFFFFFFFF}\n",
      "\u001b[0;1;32m            ^~~~~~~~~~\n",
      "\u001b[0m\u001b[1minput_line_58:2:13: \u001b[0m\u001b[0;1;30mnote: \u001b[0minsert an explicit cast to silence this issue\u001b[0m\n",
      " int mask3 {0xFFFFFFFF}\n",
      "\u001b[0;1;32m            ^~~~~~~~~~\n",
      "\u001b[0m\u001b[0;32m            static_cast<int>( )\n",
      "\u001b[0m"
     ]
    },
    {
     "ename": "Interpreter Error",
     "evalue": "",
     "output_type": "error",
     "traceback": [
      "Interpreter Error: "
     ]
    }
   ],
   "source": [
    "int mask3 {0xFFFFFFFF}"
   ]
  },
  {
   "cell_type": "code",
   "execution_count": 39,
   "metadata": {},
   "outputs": [],
   "source": [
    "int mask3 {0x7FFFFFFF}"
   ]
  },
  {
   "cell_type": "code",
   "execution_count": 40,
   "metadata": {},
   "outputs": [
    {
     "name": "stderr",
     "output_type": "stream",
     "text": [
      "\u001b[1minput_line_60:2:13: \u001b[0m\u001b[0;1;31merror: \u001b[0m\u001b[1mconstant expression evaluates to 2415919103 which cannot be narrowed to type 'int' [-Wc++11-narrowing]\u001b[0m\n",
      " int mask4 {0x8FFFFFFF}\n",
      "\u001b[0;1;32m            ^~~~~~~~~~\n",
      "\u001b[0m\u001b[1minput_line_60:2:13: \u001b[0m\u001b[0;1;30mnote: \u001b[0minsert an explicit cast to silence this issue\u001b[0m\n",
      " int mask4 {0x8FFFFFFF}\n",
      "\u001b[0;1;32m            ^~~~~~~~~~\n",
      "\u001b[0m\u001b[0;32m            static_cast<int>( )\n",
      "\u001b[0m"
     ]
    },
    {
     "ename": "Interpreter Error",
     "evalue": "",
     "output_type": "error",
     "traceback": [
      "Interpreter Error: "
     ]
    }
   ],
   "source": [
    "int mask4 {0x8FFFFFFF}"
   ]
  },
  {
   "cell_type": "code",
   "execution_count": 43,
   "metadata": {},
   "outputs": [],
   "source": [
    "int mask5 {-0x8FFFFFFF}"
   ]
  },
  {
   "cell_type": "code",
   "execution_count": 44,
   "metadata": {},
   "outputs": [],
   "source": [
    "unsigned int mask6 {-0xFFFFFFFF}"
   ]
  },
  {
   "cell_type": "code",
   "execution_count": 45,
   "metadata": {},
   "outputs": [
    {
     "data": {
      "text/plain": [
       "1"
      ]
     },
     "execution_count": 45,
     "metadata": {},
     "output_type": "execute_result"
    }
   ],
   "source": [
    "mask6"
   ]
  },
  {
   "cell_type": "code",
   "execution_count": 46,
   "metadata": {},
   "outputs": [],
   "source": [
    "unsigned int mask7 = -1 "
   ]
  },
  {
   "cell_type": "code",
   "execution_count": 47,
   "metadata": {},
   "outputs": [
    {
     "data": {
      "text/plain": [
       "4294967295"
      ]
     },
     "execution_count": 47,
     "metadata": {},
     "output_type": "execute_result"
    }
   ],
   "source": [
    "mask7"
   ]
  },
  {
   "cell_type": "markdown",
   "metadata": {},
   "source": [
    "## Octal"
   ]
  },
  {
   "cell_type": "code",
   "execution_count": 52,
   "metadata": {},
   "outputs": [
    {
     "name": "stderr",
     "output_type": "stream",
     "text": [
      "\u001b[1minput_line_75:2:6: \u001b[0m\u001b[0;1;31merror: \u001b[0m\u001b[1mredefinition of 'octal'\u001b[0m\n",
      " int octal = 017;\n",
      "\u001b[0;1;32m     ^\n",
      "\u001b[0m\u001b[1minput_line_72:2:6: \u001b[0m\u001b[0;1;30mnote: \u001b[0mprevious definition is here\u001b[0m\n",
      " int octal = 011\n",
      "\u001b[0;1;32m     ^\n",
      "\u001b[0m"
     ]
    },
    {
     "ename": "Interpreter Error",
     "evalue": "",
     "output_type": "error",
     "traceback": [
      "Interpreter Error: "
     ]
    }
   ],
   "source": [
    "int octal = 017;"
   ]
  },
  {
   "cell_type": "code",
   "execution_count": 51,
   "metadata": {},
   "outputs": [
    {
     "data": {
      "text/plain": [
       "9"
      ]
     },
     "execution_count": 51,
     "metadata": {},
     "output_type": "execute_result"
    }
   ],
   "source": [
    "octal"
   ]
  },
  {
   "cell_type": "code",
   "execution_count": 55,
   "metadata": {},
   "outputs": [
    {
     "name": "stderr",
     "output_type": "stream",
     "text": [
      "\u001b[1minput_line_78:3:3: \u001b[0m\u001b[0;1;31merror: \u001b[0m\u001b[1minvalid digit '8' in octal constant\u001b[0m\n",
      "018; // digits 0-7 in octal system\n",
      "\u001b[0;1;32m  ^\n",
      "\u001b[0m"
     ]
    },
    {
     "ename": "Interpreter Error",
     "evalue": "",
     "output_type": "error",
     "traceback": [
      "Interpreter Error: "
     ]
    }
   ],
   "source": [
    "017;\n",
    "018; // digits 0-7 in octal system"
   ]
  },
  {
   "cell_type": "markdown",
   "metadata": {},
   "source": [
    "## Binary"
   ]
  },
  {
   "cell_type": "code",
   "execution_count": 64,
   "metadata": {},
   "outputs": [
    {
     "name": "stderr",
     "output_type": "stream",
     "text": [
      "\u001b[1minput_line_90:2:6: \u001b[0m\u001b[0;1;31merror: \u001b[0m\u001b[1mredefinition of 'binary2'\u001b[0m\n",
      " int binary2 = 0b0011'0001; // 32 + 16 + 1 = 49\n",
      "\u001b[0;1;32m     ^\n",
      "\u001b[0m\u001b[1minput_line_88:2:6: \u001b[0m\u001b[0;1;30mnote: \u001b[0mprevious definition is here\u001b[0m\n",
      " int binary2 = 0b0011'0001; // 32 + 16 + 1 = 59\n",
      "\u001b[0;1;32m     ^\n",
      "\u001b[0m"
     ]
    },
    {
     "ename": "Interpreter Error",
     "evalue": "",
     "output_type": "error",
     "traceback": [
      "Interpreter Error: "
     ]
    }
   ],
   "source": [
    "int binary2 = 0b0011'0001; // 32 + 16 + 1 = 49\n",
    "binary2"
   ]
  },
  {
   "cell_type": "code",
   "execution_count": 69,
   "metadata": {},
   "outputs": [
    {
     "name": "stderr",
     "output_type": "stream",
     "text": [
      "\u001b[1minput_line_97:2:6: \u001b[0m\u001b[0;1;31merror: \u001b[0m\u001b[1mredefinition of 'binary4'\u001b[0m\n",
      " int binary4 = -0b101; //two's complement is not used when writing literals\n",
      "\u001b[0;1;32m     ^\n",
      "\u001b[0m\u001b[1minput_line_94:2:6: \u001b[0m\u001b[0;1;30mnote: \u001b[0mprevious definition is here\u001b[0m\n",
      " int binary4 = -0b101;\n",
      "\u001b[0;1;32m     ^\n",
      "\u001b[0m"
     ]
    },
    {
     "ename": "Interpreter Error",
     "evalue": "",
     "output_type": "error",
     "traceback": [
      "Interpreter Error: "
     ]
    }
   ],
   "source": [
    "int binary4 = -0b101; //two's complement is not used when writing literals"
   ]
  },
  {
   "cell_type": "code",
   "execution_count": 68,
   "metadata": {},
   "outputs": [
    {
     "data": {
      "text/plain": [
       "-5"
      ]
     },
     "execution_count": 68,
     "metadata": {},
     "output_type": "execute_result"
    }
   ],
   "source": [
    "binary4"
   ]
  },
  {
   "cell_type": "markdown",
   "metadata": {},
   "source": [
    "## Writing bits"
   ]
  },
  {
   "cell_type": "code",
   "execution_count": 70,
   "metadata": {},
   "outputs": [],
   "source": [
    "#include <bitset>"
   ]
  },
  {
   "cell_type": "code",
   "execution_count": 71,
   "metadata": {},
   "outputs": [],
   "source": [
    "bitset<32> bits(binary2);"
   ]
  },
  {
   "cell_type": "code",
   "execution_count": 73,
   "metadata": {},
   "outputs": [
    {
     "name": "stdout",
     "output_type": "stream",
     "text": [
      "00000000000000000000000000110001"
     ]
    }
   ],
   "source": [
    "cout << bits;"
   ]
  },
  {
   "cell_type": "code",
   "execution_count": null,
   "metadata": {},
   "outputs": [],
   "source": []
  }
 ],
 "metadata": {
  "kernelspec": {
   "display_name": "C++17",
   "language": "C++17",
   "name": "xeus-cling-cpp17"
  }
 },
 "nbformat": 4,
 "nbformat_minor": 2
}
